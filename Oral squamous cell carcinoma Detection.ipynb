{
 "cells": [
  {
   "cell_type": "code",
   "execution_count": 82,
   "metadata": {},
   "outputs": [],
   "source": [
    "import tensorflow as tf\n",
    "from tensorflow import keras\n",
    "import numpy as np\n",
    "from matplotlib import pyplot as plt\n",
    "import cv2\n",
    "import random\n",
    "import os"
   ]
  },
  {
   "cell_type": "code",
   "execution_count": 83,
   "metadata": {},
   "outputs": [],
   "source": [
    "DATA_DIR = \"/Users/abhraneelsaha/Desktop/oral_cancer_data\"\n",
    "SET = [\"train\",\"test\",\"val\"]\n",
    "CATEGORIES = [\"Normal\",\"OSCC\"]"
   ]
  },
  {
   "cell_type": "code",
   "execution_count": 109,
   "metadata": {},
   "outputs": [],
   "source": [
    "#processing for training set\n",
    "\n",
    "training_data = []\n",
    "validation_data = []\n",
    "PARENT_PATH = os.path.join(DATA_DIR,SET[0])\n",
    "for category in CATEGORIES:\n",
    "    category_num = CATEGORIES.index(category)\n",
    "    PATH = os.path.join(PARENT_PATH,category)\n",
    "    for img in os.listdir(PATH):\n",
    "        IMG_PATH = os.path.join(PATH,img)\n",
    "        img_array = cv2.imread(IMG_PATH, cv2.IMREAD_GRAYSCALE)\n",
    "        img_array.resize(224,224)\n",
    "        training_data.append([img_array,category_num])\n",
    "        \n",
    "#processing for validation set\n",
    "\n",
    "PARENT_PATH = os.path.join(DATA_DIR,SET[2])\n",
    "for category in CATEGORIES:\n",
    "    category_num = CATEGORIES.index(category)\n",
    "    PATH = os.path.join(PARENT_PATH,category)\n",
    "    for img in os.listdir(PATH):\n",
    "        IMG_PATH = os.path.join(PATH,img)\n",
    "        img_array = cv2.imread(IMG_PATH, cv2.IMREAD_GRAYSCALE)\n",
    "        img_array.resize(224,224)\n",
    "        training_data.append([img_array,category_num])\n",
    "        \n",
    "        \n",
    "        "
   ]
  },
  {
   "cell_type": "code",
   "execution_count": 73,
   "metadata": {},
   "outputs": [],
   "source": [
    "# data_aug = tf.keras.Sequential([\n",
    "# #     tf.keras.layers.experimental.preprocessing.RandomFlip(\"vertical\",\n",
    "# #                                                          input_shape = (224,224)),\n",
    "#     tf.keras.layers.experimental.preprocessing.RandomRotation(0.1)\n",
    "# #     tf.keras.layers.experimental.preprocessing.RandomZoom(0.1)\n",
    "# ])\n",
    "\n",
    "datagen = tf.keras.preprocessing.image.ImageDataGenerator(\n",
    "    featurewise_center=True,\n",
    "    featurewise_std_normalization=True,\n",
    "    rotation_range=20,\n",
    "    width_shift_range=0.2,\n",
    "    height_shift_range=0.2,\n",
    "    shear_range = 0.2,\n",
    "    zoom_range = 0.2,\n",
    "    horizontal_flip=True,\n",
    "    fill_mode = \"nearest\")"
   ]
  },
  {
   "cell_type": "code",
   "execution_count": 110,
   "metadata": {},
   "outputs": [],
   "source": [
    "random.shuffle(training_data)"
   ]
  },
  {
   "cell_type": "code",
   "execution_count": 111,
   "metadata": {},
   "outputs": [],
   "source": [
    "x_train = []\n",
    "y_train = []\n",
    "\n",
    "for feature,label in training_data:\n",
    "    x_train.append(feature)\n",
    "    y_train.append(label)\n",
    "\n",
    "x_train = np.array(x_train).reshape(-1,224,224,1)\n",
    "y_train = np.array(y_train).reshape(-1,1)\n",
    "x_train = x_train/255"
   ]
  },
  {
   "cell_type": "code",
   "execution_count": 112,
   "metadata": {},
   "outputs": [
    {
     "data": {
      "text/plain": [
       "(5066, 224, 224, 1)"
      ]
     },
     "execution_count": 112,
     "metadata": {},
     "output_type": "execute_result"
    }
   ],
   "source": [
    "x_train.shape"
   ]
  },
  {
   "cell_type": "code",
   "execution_count": 77,
   "metadata": {},
   "outputs": [],
   "source": [
    "datagen.fit(x_train)\n",
    "\n",
    "i = 0  \n",
    "for batch in datagen.flow(x_train,batch_size = 1,save_to_dir = \"/Users/abhraneelsaha/Desktop/oral_cancer_data/preview\",\n",
    "                   save_prefix = \"img\", save_format = \"jpeg\"):\n",
    "    \n",
    "    i += 1\n",
    "    if i>20:\n",
    "        break"
   ]
  },
  {
   "cell_type": "code",
   "execution_count": 116,
   "metadata": {},
   "outputs": [
    {
     "name": "stdout",
     "output_type": "stream",
     "text": [
      "Model: \"sequential_11\"\n",
      "_________________________________________________________________\n",
      " Layer (type)                Output Shape              Param #   \n",
      "=================================================================\n",
      " conv2d_25 (Conv2D)          (None, 224, 224, 64)      640       \n",
      "                                                                 \n",
      " conv2d_26 (Conv2D)          (None, 224, 224, 64)      36928     \n",
      "                                                                 \n",
      " max_pooling2d_12 (MaxPoolin  (None, 112, 112, 64)     0         \n",
      " g2D)                                                            \n",
      "                                                                 \n",
      " conv2d_27 (Conv2D)          (None, 112, 112, 128)     73856     \n",
      "                                                                 \n",
      " conv2d_28 (Conv2D)          (None, 112, 112, 128)     147584    \n",
      "                                                                 \n",
      " max_pooling2d_13 (MaxPoolin  (None, 56, 56, 128)      0         \n",
      " g2D)                                                            \n",
      "                                                                 \n",
      " conv2d_29 (Conv2D)          (None, 56, 56, 256)       295168    \n",
      "                                                                 \n",
      " conv2d_30 (Conv2D)          (None, 56, 56, 256)       590080    \n",
      "                                                                 \n",
      " conv2d_31 (Conv2D)          (None, 56, 56, 256)       590080    \n",
      "                                                                 \n",
      " max_pooling2d_14 (MaxPoolin  (None, 28, 28, 256)      0         \n",
      " g2D)                                                            \n",
      "                                                                 \n",
      " conv2d_32 (Conv2D)          (None, 28, 28, 512)       1180160   \n",
      "                                                                 \n",
      " conv2d_33 (Conv2D)          (None, 28, 28, 512)       2359808   \n",
      "                                                                 \n",
      " conv2d_34 (Conv2D)          (None, 28, 28, 512)       2359808   \n",
      "                                                                 \n",
      " max_pooling2d_15 (MaxPoolin  (None, 14, 14, 512)      0         \n",
      " g2D)                                                            \n",
      "                                                                 \n",
      " conv2d_35 (Conv2D)          (None, 14, 14, 512)       2359808   \n",
      "                                                                 \n",
      " conv2d_36 (Conv2D)          (None, 14, 14, 512)       2359808   \n",
      "                                                                 \n",
      " conv2d_37 (Conv2D)          (None, 14, 14, 512)       2359808   \n",
      "                                                                 \n",
      " max_pooling2d_16 (MaxPoolin  (None, 7, 7, 512)        0         \n",
      " g2D)                                                            \n",
      "                                                                 \n",
      " flatten_3 (Flatten)         (None, 25088)             0         \n",
      "                                                                 \n",
      " dense_9 (Dense)             (None, 4096)              102764544 \n",
      "                                                                 \n",
      " dense_10 (Dense)            (None, 4096)              16781312  \n",
      "                                                                 \n",
      " dropout_3 (Dropout)         (None, 4096)              0         \n",
      "                                                                 \n",
      " dense_11 (Dense)            (None, 1)                 4097      \n",
      "                                                                 \n",
      " activation_3 (Activation)   (None, 1)                 0         \n",
      "                                                                 \n",
      "=================================================================\n",
      "Total params: 134,263,489\n",
      "Trainable params: 134,263,489\n",
      "Non-trainable params: 0\n",
      "_________________________________________________________________\n"
     ]
    }
   ],
   "source": [
    "model = tf.keras.models.Sequential()\n",
    "\n",
    "model.add(tf.keras.layers.Conv2D(64,(3,3),input_shape = x_train.shape[1:],padding = 'same', activation = 'relu'))\n",
    "model.add(tf.keras.layers.Conv2D(64,(3,3),padding = 'same', activation = 'relu'))\n",
    "model.add(tf.keras.layers.MaxPooling2D(pool_size =(2,2),strides = (2,2)))\n",
    "          \n",
    "model.add(tf.keras.layers.Conv2D(128,(3,3),padding = 'same', activation = 'relu'))\n",
    "model.add(tf.keras.layers.Conv2D(128,(3,3),padding = 'same', activation = 'relu'))\n",
    "model.add(tf.keras.layers.MaxPooling2D(pool_size =(2,2),strides = (2,2)))\n",
    "\n",
    "model.add(tf.keras.layers.Conv2D(256,(3,3),padding = 'same', activation = 'relu'))\n",
    "model.add(tf.keras.layers.Conv2D(256,(3,3),padding = 'same', activation = 'relu'))\n",
    "model.add(tf.keras.layers.Conv2D(256,(3,3),padding = 'same', activation = 'relu'))\n",
    "model.add(tf.keras.layers.MaxPooling2D(pool_size =(2,2),strides = (2,2)))\n",
    "\n",
    "model.add(tf.keras.layers.Conv2D(512,(3,3),padding = 'same', activation = 'relu'))\n",
    "model.add(tf.keras.layers.Conv2D(512,(3,3),padding = 'same', activation = 'relu'))\n",
    "model.add(tf.keras.layers.Conv2D(512,(3,3),padding = 'same', activation = 'relu'))\n",
    "model.add(tf.keras.layers.MaxPooling2D(pool_size =(2,2),strides = (2,2)))\n",
    "\n",
    "model.add(tf.keras.layers.Conv2D(512,(3,3),padding = 'same', activation = 'relu'))\n",
    "model.add(tf.keras.layers.Conv2D(512,(3,3),padding = 'same', activation = 'relu'))\n",
    "model.add(tf.keras.layers.Conv2D(512,(3,3),padding = 'same', activation = 'relu'))\n",
    "model.add(tf.keras.layers.MaxPooling2D(pool_size =(2,2),strides = (2,2)))\n",
    "\n",
    "model.add(tf.keras.layers.Flatten())\n",
    "model.add(tf.keras.layers.Dense(4096, activation = 'relu'))\n",
    "model.add(tf.keras.layers.Dense(4096, activation = 'relu'))\n",
    "model.add(tf.keras.layers.Dropout(0.2))\n",
    "model.add(tf.keras.layers.Dense(1))\n",
    "model.add(tf.keras.layers.Activation(\"sigmoid\"))\n",
    "\n",
    "model.compile(\n",
    "    optimizer = 'adam',\n",
    "    loss = 'binary_crossentropy',\n",
    "    metrics = ['accuracy']\n",
    ")\n",
    "\n",
    "MODEL_DATA = model.summary()\n",
    "\n"
   ]
  },
  {
   "cell_type": "code",
   "execution_count": 115,
   "metadata": {},
   "outputs": [],
   "source": [
    "model.fit(x_train, y_train, batch_size = 32, validation_split = 0.3, epochs = 20)"
   ]
  },
  {
   "cell_type": "code",
   "execution_count": null,
   "metadata": {},
   "outputs": [],
   "source": [
    "#processing for testing set\n",
    "\n",
    "testing_data = []\n",
    "\n",
    "PARENT_PATH = os.path.join(DATA_DIR,SET[1])\n",
    "for category in CATEGORIES:\n",
    "    category_num = CATEGORIES.index(category)\n",
    "    PATH = os.path.join(PARENT_PATH,category)\n",
    "    for img in os.listdir(PATH):\n",
    "        IMG_PATH = os.path.join(PATH,img)\n",
    "        img_array = cv2.imread(IMG_PATH, cv2.IMREAD_GRAYSCALE)\n",
    "        img_resize_array = img_array.resize(224,224)\n",
    "        testing_data.append([img_array,category_num])\n",
    "        \n"
   ]
  },
  {
   "cell_type": "code",
   "execution_count": null,
   "metadata": {},
   "outputs": [],
   "source": [
    "x_test = []\n",
    "y_test = []\n",
    "\n",
    "for feature,label in testing_data:\n",
    "    x_test.append(feature)\n",
    "    y_test.append(label)\n",
    "\n",
    "x_test = np.array(x_test).reshape(-1,224,224,1)\n",
    "y_test = np.array(y_test)\n",
    "x_test = x_test/255"
   ]
  }
 ],
 "metadata": {
  "kernelspec": {
   "display_name": "Python 3",
   "language": "python",
   "name": "python3"
  },
  "language_info": {
   "codemirror_mode": {
    "name": "ipython",
    "version": 3
   },
   "file_extension": ".py",
   "mimetype": "text/x-python",
   "name": "python",
   "nbconvert_exporter": "python",
   "pygments_lexer": "ipython3",
   "version": "3.7.3"
  }
 },
 "nbformat": 4,
 "nbformat_minor": 2
}
